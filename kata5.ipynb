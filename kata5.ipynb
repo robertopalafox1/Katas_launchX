{
 "cells": [
  {
   "cell_type": "markdown",
   "metadata": {},
   "source": [
    "Ejercicio1\n",
    "\n",
    " crear un programa que pueda calcular la distancia entre dos planetas. Comenzaremos usando dos distancias de planetas: Tierra (149.597.870 km) y Júpiter (778.547.200 km)"
   ]
  },
  {
   "cell_type": "code",
   "execution_count": 20,
   "metadata": {},
   "outputs": [
    {
     "name": "stdout",
     "output_type": "stream",
     "text": [
      "distancia entre la Tierra y Jupiter:\n",
      "En kilometros: 628949330 km \n",
      "En millas: 390577534 mi\n"
     ]
    }
   ],
   "source": [
    "from math import ceil\n",
    "distancia_tierra=149597870 \n",
    "distancia_jupiter=778547200\n",
    "distancia_btp=abs(distancia_tierra-distancia_jupiter)\n",
    "distancia_btp_mi=abs(distancia_btp*0.621)\n",
    "print(\"distancia entre la Tierra y Jupiter:\\n\"+\"En kilometros: \"+str(distancia_btp) + \" km \\n\"+\"En millas: \"+str(ceil(distancia_btp_mi)) + \" mi\" )"
   ]
  },
  {
   "cell_type": "markdown",
   "metadata": {},
   "source": [
    "Ejercicio 2: Crear una aplicación para trabajar con números y entrada de usuario"
   ]
  },
  {
   "cell_type": "code",
   "execution_count": 24,
   "metadata": {},
   "outputs": [
    {
     "name": "stdout",
     "output_type": "stream",
     "text": [
      "distancia entre la planeta 1 y planeta 2:\n",
      "En kilometros: 10 km \n",
      "En millas: 7 mi\n"
     ]
    }
   ],
   "source": [
    "planeta1=input(\"Teclea la distancia entre el primer planeta y el sol: \")\n",
    "planeta2=input(\"Teclea la distancia entre el segundo planeta y el sol: \")\n",
    "p1=int(planeta1)\n",
    "p2=int(planeta2)\n",
    "dist_btp=abs(p1-p2)\n",
    "dist_btp_mi=abs(dist_btp*0.621)\n",
    "print(\"distancia entre la planeta 1 y planeta 2:\\n\"+\"En kilometros: \"+str(dist_btp) + \" km \\n\"+\"En millas: \"+str(ceil(dist_btp_mi)) + \" mi\" )"
   ]
  }
 ],
 "metadata": {
  "interpreter": {
   "hash": "5cb8fd55b145b3510ac3f6ee2991aea0f1dafeded41e4c9d157410fa60470c41"
  },
  "kernelspec": {
   "display_name": "Python 3.9.9 ('env': venv)",
   "language": "python",
   "name": "python3"
  },
  "language_info": {
   "codemirror_mode": {
    "name": "ipython",
    "version": 3
   },
   "file_extension": ".py",
   "mimetype": "text/x-python",
   "name": "python",
   "nbconvert_exporter": "python",
   "pygments_lexer": "ipython3",
   "version": "3.9.9"
  },
  "orig_nbformat": 4
 },
 "nbformat": 4,
 "nbformat_minor": 2
}
