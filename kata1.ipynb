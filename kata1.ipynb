{
 "cells": [
  {
   "cell_type": "code",
   "execution_count": 4,
   "metadata": {},
   "outputs": [
    {
     "name": "stdout",
     "output_type": "stream",
     "text": [
      "La fecha de hoy es: 2022-02-12\n",
      "11 parsec, son 35.877159999999996 años luz\n"
     ]
    }
   ],
   "source": [
    "from datetime import date\n",
    "\n",
    "print(\"La fecha de hoy es: \" + str(date.today()))\n",
    "\n",
    "parsec = 11\n",
    "añosluz = 3.26156 * parsec\n",
    "print(str(parsec) + \" parsec, son \" + str(añosluz) + \" años luz\")\n"
   ]
  }
 ],
 "metadata": {
  "interpreter": {
   "hash": "5cb8fd55b145b3510ac3f6ee2991aea0f1dafeded41e4c9d157410fa60470c41"
  },
  "kernelspec": {
   "display_name": "Python 3.9.9 ('env': venv)",
   "language": "python",
   "name": "python3"
  },
  "language_info": {
   "codemirror_mode": {
    "name": "ipython",
    "version": 3
   },
   "file_extension": ".py",
   "mimetype": "text/x-python",
   "name": "python",
   "nbconvert_exporter": "python",
   "pygments_lexer": "ipython3",
   "version": "3.9.9"
  },
  "orig_nbformat": 4
 },
 "nbformat": 4,
 "nbformat_minor": 2
}
