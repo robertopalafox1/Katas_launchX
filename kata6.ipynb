{
 "cells": [
  {
   "cell_type": "code",
   "execution_count": 11,
   "metadata": {},
   "outputs": [
    {
     "name": "stdout",
     "output_type": "stream",
     "text": [
      "\n",
      "estos son los planetas cercanos a: Tierra\n",
      "['Mercurio', 'Venus']\n",
      "aqui estan lo planetas lejanos a: Tierra\n",
      "['Marte', 'Jupiter', 'Saturno', 'Urano', 'Neptuno', 'Pluto']\n"
     ]
    }
   ],
   "source": [
    "planets=['Mercurio','Venus','Tierra','Marte','Jupiter','Saturno','Urano','Neptuno']\n",
    "planets.append('Pluto')\n",
    "planeta=input('Ingrsa el nombre del  planeta(utiliza letra mayuscula en la primera letra del planeta): ') \n",
    "planeta_index = planets.index(planeta)\n",
    "print()\n",
    "print(\"estos son los planetas cercanos a: \" + planeta)\n",
    "print(planets[0:planeta_index])\n",
    "print('aqui estan lo planetas lejanos a: ' + planeta)\n",
    "print(planets[planeta_index + 1:])"
   ]
  },
  {
   "cell_type": "code",
   "execution_count": null,
   "metadata": {},
   "outputs": [],
   "source": []
  }
 ],
 "metadata": {
  "interpreter": {
   "hash": "5cb8fd55b145b3510ac3f6ee2991aea0f1dafeded41e4c9d157410fa60470c41"
  },
  "kernelspec": {
   "display_name": "Python 3.9.9 ('env': venv)",
   "language": "python",
   "name": "python3"
  },
  "language_info": {
   "codemirror_mode": {
    "name": "ipython",
    "version": 3
   },
   "file_extension": ".py",
   "mimetype": "text/x-python",
   "name": "python",
   "nbconvert_exporter": "python",
   "pygments_lexer": "ipython3",
   "version": "3.9.9"
  },
  "orig_nbformat": 4
 },
 "nbformat": 4,
 "nbformat_minor": 2
}
