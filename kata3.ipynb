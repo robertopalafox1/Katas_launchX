{
 "cells": [
  {
   "cell_type": "code",
   "execution_count": 3,
   "metadata": {},
   "outputs": [
    {
     "name": "stdout",
     "output_type": "stream",
     "text": [
      "ALERTA DE ASTEROIDE\n"
     ]
    }
   ],
   "source": [
    "vel_asteriode=49\n",
    "vel_alerta=25\n",
    "if vel_asteriode > vel_alerta:\n",
    "    print(\"ALERTA DE ASTEROIDE\")\n",
    "else:\n",
    "    print(\"SIN PELIGRO\")"
   ]
  },
  {
   "cell_type": "code",
   "execution_count": 4,
   "metadata": {},
   "outputs": [
    {
     "name": "stdout",
     "output_type": "stream",
     "text": [
      "no se vizualisa nada en el cielo\n"
     ]
    }
   ],
   "source": [
    "asteroide_vel=19\n",
    "rayo_luz=20\n",
    "if asteroide_vel > rayo_luz:\n",
    "        print(\"Cuidado se vizualisa una luz en el cielo\")\n",
    "elif asteroide_vel == 20:\n",
    "    print(\"cuidado se vizualisa una luz en el cielo \")\n",
    "else:\n",
    "    print(\"no se vizualisa nada en el cielo\")"
   ]
  },
  {
   "cell_type": "code",
   "execution_count": 7,
   "metadata": {},
   "outputs": [
    {
     "name": "stdout",
     "output_type": "stream",
     "text": [
      "Asteroide de mas de 25 metros acercandose a gran velocidad y se vizualisa una luz\n"
     ]
    }
   ],
   "source": [
    "vel=30\n",
    "tam=26\n",
    "rayo_luz=20\n",
    "if tam > 25 and vel > 25 :\n",
    "    print(\"Asteroide de mas de 25 metros acercandose a gran velocidad y se vizualisa una luz\")\n",
    "elif vel >=20:\n",
    "    print(\"Se vizualisa una luz en el cielo\")\n",
    "elif tam<25:\n",
    "    print(\"no hay peligro inminente\")\n",
    "else:\n",
    "    print(\"sin peligro\")\n"
   ]
  }
 ],
 "metadata": {
  "interpreter": {
   "hash": "5cb8fd55b145b3510ac3f6ee2991aea0f1dafeded41e4c9d157410fa60470c41"
  },
  "kernelspec": {
   "display_name": "Python 3.9.9 ('env': venv)",
   "language": "python",
   "name": "python3"
  },
  "language_info": {
   "codemirror_mode": {
    "name": "ipython",
    "version": 3
   },
   "file_extension": ".py",
   "mimetype": "text/x-python",
   "name": "python",
   "nbconvert_exporter": "python",
   "pygments_lexer": "ipython3",
   "version": "3.9.9"
  },
  "orig_nbformat": 4
 },
 "nbformat": 4,
 "nbformat_minor": 2
}
